{
 "cells": [
  {
   "cell_type": "markdown",
   "metadata": {
    "slideshow": {
     "slide_type": "slide"
    }
   },
   "source": [
    "### Random zadatak iz zbirke za klimatologiju i primenjenu meteorologiju:\n",
    "Odrediti početak i kraj vegetacionog perioda i sumu aktivnih temperatura u periodu od1961. do 1990. godine ako je biološki minimum 5,0 °C za Beograd"
   ]
  },
  {
   "cell_type": "markdown",
   "metadata": {
    "slideshow": {
     "slide_type": "slide"
    }
   },
   "source": [
    "Prvo ucitamo biblioteke koje cemo koristiti"
   ]
  },
  {
   "cell_type": "code",
   "execution_count": null,
   "metadata": {
    "slideshow": {
     "slide_type": "fragment"
    }
   },
   "outputs": [],
   "source": [
    "import pandas as pd\n",
    "import matplotlib.pyplot as plt\n",
    "%matplotlib notebook"
   ]
  },
  {
   "cell_type": "markdown",
   "metadata": {
    "slideshow": {
     "slide_type": "slide"
    }
   },
   "source": [
    "Zatim ucitamo podatke koji se nalaze u csv fajlu"
   ]
  },
  {
   "cell_type": "code",
   "execution_count": null,
   "metadata": {
    "slideshow": {
     "slide_type": "fragment"
    }
   },
   "outputs": [],
   "source": [
    "tabela_beograd = pd.read_csv('tabela_klima_311.csv', delimiter=' ')"
   ]
  },
  {
   "cell_type": "code",
   "execution_count": null,
   "metadata": {
    "slideshow": {
     "slide_type": "slide"
    }
   },
   "outputs": [],
   "source": [
    "tabela_beograd"
   ]
  },
  {
   "cell_type": "code",
   "execution_count": null,
   "metadata": {
    "slideshow": {
     "slide_type": "slide"
    }
   },
   "outputs": [],
   "source": [
    "tabela_beograd = tabela_beograd.set_index('god.')"
   ]
  },
  {
   "cell_type": "code",
   "execution_count": null,
   "metadata": {
    "slideshow": {
     "slide_type": "fragment"
    }
   },
   "outputs": [],
   "source": [
    "tabela_beograd"
   ]
  },
  {
   "cell_type": "code",
   "execution_count": null,
   "metadata": {
    "slideshow": {
     "slide_type": "slide"
    }
   },
   "outputs": [],
   "source": [
    "tabela_beograd.describe()"
   ]
  },
  {
   "cell_type": "code",
   "execution_count": null,
   "metadata": {
    "slideshow": {
     "slide_type": "slide"
    }
   },
   "outputs": [],
   "source": [
    "tabela_beograd.shape"
   ]
  },
  {
   "cell_type": "code",
   "execution_count": null,
   "metadata": {
    "slideshow": {
     "slide_type": "slide"
    }
   },
   "outputs": [],
   "source": [
    "tabela_bg_meseci = tabela_beograd.drop('sr.god', axis=1)\n",
    "tabela_bg_meseci"
   ]
  },
  {
   "cell_type": "markdown",
   "metadata": {
    "slideshow": {
     "slide_type": "slide"
    }
   },
   "source": [
    "Prvo izračunamo normalnu mesečnu temperaturu vazduha za svaki mesec u godinikao aritmetičku sredinu srednjih mesečnih vrednosti temperature u periodu od 1961. do 1990.godine:"
   ]
  },
  {
   "cell_type": "code",
   "execution_count": null,
   "metadata": {
    "slideshow": {
     "slide_type": "fragment"
    }
   },
   "outputs": [],
   "source": [
    "avg = tabela_bg_meseci.mean()\n",
    "avg"
   ]
  },
  {
   "cell_type": "markdown",
   "metadata": {
    "slideshow": {
     "slide_type": "slide"
    }
   },
   "source": [
    "Sada cemo da nacrtamo grafik srednjih temperatura. Pandas interno koristi biblioteku **matplotlib** za grafiku. "
   ]
  },
  {
   "cell_type": "code",
   "execution_count": null,
   "metadata": {
    "slideshow": {
     "slide_type": "fragment"
    }
   },
   "outputs": [],
   "source": [
    "avg.plot()"
   ]
  },
  {
   "cell_type": "markdown",
   "metadata": {
    "slideshow": {
     "slide_type": "slide"
    }
   },
   "source": [
    "Medjutim mi ne mozemo bas mnogo da procitamo sa ovakvog grafika pa treba ipak malo da ga stilizujemo koristeci matplotlib direktno."
   ]
  },
  {
   "cell_type": "code",
   "execution_count": null,
   "metadata": {
    "scrolled": true,
    "slideshow": {
     "slide_type": "subslide"
    }
   },
   "outputs": [],
   "source": [
    "avg.plot()\n",
    "plt.axhline(y=5, color='r', linestyle='-')\n",
    "plt.grid()"
   ]
  },
  {
   "cell_type": "markdown",
   "metadata": {
    "slideshow": {
     "slide_type": "fragment"
    }
   },
   "source": [
    "I dalje ne vidimo lepo datume pa cemo da napravimo novi data frame samo sa datumima i spojiti sa nasom tabelom."
   ]
  },
  {
   "cell_type": "code",
   "execution_count": null,
   "metadata": {
    "slideshow": {
     "slide_type": "slide"
    }
   },
   "outputs": [],
   "source": [
    "date_rng = pd.DataFrame(pd.date_range('2018-01-01', periods=12, freq='MS') + pd.DateOffset(days=14), columns=['Date'])\n",
    "date_rng"
   ]
  },
  {
   "cell_type": "code",
   "execution_count": null,
   "metadata": {
    "slideshow": {
     "slide_type": "slide"
    }
   },
   "outputs": [],
   "source": [
    "avg = avg.reset_index()\n",
    "new = pd.concat([avg[0], date_rng], axis=1, sort=False)\n",
    "new = new.set_index('Date')\n",
    "new"
   ]
  },
  {
   "cell_type": "code",
   "execution_count": null,
   "metadata": {
    "slideshow": {
     "slide_type": "slide"
    }
   },
   "outputs": [],
   "source": [
    "%matplotlib notebook\n",
    "new.plot()\n",
    "plt.axhline(y=5, color='r', linestyle='-')\n",
    "plt.grid()"
   ]
  },
  {
   "cell_type": "markdown",
   "metadata": {
    "slideshow": {
     "slide_type": "fragment"
    }
   },
   "source": [
    "Prvi  presek  izoterme  od  5,0  °C  i  normalnog  godišnjeg  toka  temperature  predstavljapočetak,  a  drugi  presek  kraj  vegetacionog  perioda  za  biološki  minimum  od  5,0  °C  i  njih pročitamo  sa  grafika.  Sa  slike  se  vidi  da  je  za  Beograd  početak  vegetacionog  perioda 1. marta, a kraj vegetacionog perioda 28. novembra."
   ]
  },
  {
   "cell_type": "markdown",
   "metadata": {
    "slideshow": {
     "slide_type": "slide"
    }
   },
   "source": [
    "Aktivne temperature za mart i novembar računamo na sledeći način:\n",
    "\n",
    "\n",
    "\\begin{align}\n",
    "T_a & = \\frac{(a + b) \\cdot h}{2}\n",
    "\\end{align}\n",
    "\n",
    "gde  su a i b  -  temperature  koje  odgovaraju  početku  i  kraju  vegetacionog  perioda,  *h*  –  broj dana  od  početka  do  kraja  vegetacionog  perioda  i  Ta –  aktivna  temperatura  za  posmatrani mesec."
   ]
  },
  {
   "cell_type": "code",
   "execution_count": null,
   "metadata": {
    "slideshow": {
     "slide_type": "fragment"
    }
   },
   "outputs": [],
   "source": [
    "Ta_III = (5 + 9.7)*29/2\n",
    "Ta_IX = (9.3 + 5)*28/2\n",
    "print('Ta_III =  {0:4.2f}, a Ta_IX = {0:4.2f}'.format(Ta_III,Ta_IX))"
   ]
  },
  {
   "cell_type": "markdown",
   "metadata": {
    "slideshow": {
     "slide_type": "slide"
    }
   },
   "source": [
    "Za ostale mesece moramo da znamo broj dana u mesecu. Pomocice nam biblioteka **calendar**"
   ]
  },
  {
   "cell_type": "code",
   "execution_count": null,
   "metadata": {
    "slideshow": {
     "slide_type": "fragment"
    }
   },
   "outputs": [],
   "source": [
    "from calendar import monthrange\n",
    "monthrange(1990, 2)"
   ]
  },
  {
   "cell_type": "markdown",
   "metadata": {
    "slideshow": {
     "slide_type": "fragment"
    }
   },
   "source": [
    "Prvi broj u ovom Tuple-u je dan u nedelji kad je poceo taj mesec a drugi je broj dana. Nama treba broj dana tako da cemo uzeti samo drugi element."
   ]
  },
  {
   "cell_type": "code",
   "execution_count": null,
   "metadata": {
    "slideshow": {
     "slide_type": "slide"
    }
   },
   "outputs": [],
   "source": [
    "Ta = Ta_III + Ta_IX\n",
    "for i in range(4,11):\n",
    "    broj_dana_u_mesecu = monthrange(1989,i)[1]\n",
    "    Tsr = avg[0][i-1]\n",
    "    Ta_i = Tsr * broj_dana_u_mesecu\n",
    "    Ta = Ta + Ta_i\n",
    "Ta"
   ]
  }
 ],
 "metadata": {
  "kernelspec": {
   "display_name": "Python 3",
   "language": "python",
   "name": "python3"
  },
  "language_info": {
   "codemirror_mode": {
    "name": "ipython",
    "version": 3
   },
   "file_extension": ".py",
   "mimetype": "text/x-python",
   "name": "python",
   "nbconvert_exporter": "python",
   "pygments_lexer": "ipython3",
   "version": "3.6.8"
  }
 },
 "nbformat": 4,
 "nbformat_minor": 2
}
