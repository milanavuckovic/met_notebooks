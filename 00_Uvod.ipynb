{
 "cells": [
  {
   "cell_type": "markdown",
   "metadata": {
    "slideshow": {
     "slide_type": "slide"
    }
   },
   "source": [
    "# Koriscenje programskog jezika Python za rad sa meteoroloskim podacima\n",
    "## Milana Vuckovic\n",
    "## Novembar 2019"
   ]
  },
  {
   "cell_type": "markdown",
   "metadata": {
    "slideshow": {
     "slide_type": "slide"
    }
   },
   "source": [
    "# Python"
   ]
  },
  {
   "cell_type": "markdown",
   "metadata": {
    "slideshow": {
     "slide_type": "fragment"
    }
   },
   "source": [
    "# Meteoroloski podaci"
   ]
  },
  {
   "cell_type": "markdown",
   "metadata": {
    "slideshow": {
     "slide_type": "slide"
    }
   },
   "source": [
    "### Odakle nam meteoroloski podaci?"
   ]
  },
  {
   "cell_type": "markdown",
   "metadata": {
    "slideshow": {
     "slide_type": "fragment"
    }
   },
   "source": [
    "- Iz RHMZ-a (osmatranja, izlazi iz modela, satelitski podaci..)\n",
    "- Iz ECMWF-a (izlaz iz modela, reanaliza..)"
   ]
  },
  {
   "cell_type": "markdown",
   "metadata": {
    "slideshow": {
     "slide_type": "fragment"
    }
   },
   "source": [
    "### Da li moze jednostavnije? \n",
    "### Da li ima negde na internetu?"
   ]
  },
  {
   "cell_type": "markdown",
   "metadata": {
    "slideshow": {
     "slide_type": "slide"
    }
   },
   "source": [
    "#### Ima na Climate Data Store-u\n",
    "#### https://cds.climate.copernicus.eu"
   ]
  },
  {
   "cell_type": "markdown",
   "metadata": {
    "slideshow": {
     "slide_type": "fragment"
    }
   },
   "source": [
    "- Reanalize\n",
    "- Satelitska osmatranja\n",
    "- Sezonske prognoze\n",
    "- Klimatske projekcije\n",
    "- Sektorski klimatski indeksi"
   ]
  },
  {
   "cell_type": "markdown",
   "metadata": {
    "slideshow": {
     "slide_type": "slide"
    }
   },
   "source": [
    "#### Produkti reanalize (period 1950 - danas)\n",
    "- Dostupna osmatranja asimilovana u zamrznutu verziju globalnog meteoroloskog modela\n",
    "- Satni podaci, puna globalna horizontalna i vertikalna pokrivenost\n",
    "- Dobra alternativa realnim osmatranjima gde su osmatranja retka\n",
    "- Izracunate srednje mesecne vrednosti za najbitnije parametre"
   ]
  },
  {
   "cell_type": "markdown",
   "metadata": {
    "slideshow": {
     "slide_type": "fragment"
    }
   },
   "source": [
    "Globalna reanaliza - ERA5 i ERA5 Land  \n",
    "Regionalna reanaliza - UERRA-HARMONIE i MESCAN-SURFEX modeli za oblast Evrope"
   ]
  },
  {
   "cell_type": "markdown",
   "metadata": {
    "slideshow": {
     "slide_type": "slide"
    }
   },
   "source": [
    "#### Satelitska osmatranja\n",
    "Gridovani produkti za klimatska osmatranja\n",
    "- Ugljen dioksid, \n",
    "- Metan, \n",
    "- Visina nivoa mora,\n",
    "- Temperatura mora..."
   ]
  },
  {
   "cell_type": "markdown",
   "metadata": {
    "slideshow": {
     "slide_type": "slide"
    }
   },
   "source": [
    "#### Sezonska prognoza → do ~6-12 meseci\n",
    "\n",
    "- Mesecne statistike, a ne satne ili dnevne vremenske serije\n",
    "- Multi-sistem sezonske prognoze (6 modela)\n",
    "- Podaci ukljucuju prognoze izradjene u realnom vremenu od 2018, svakog meseca novi izlazi iz modela"
   ]
  },
  {
   "cell_type": "markdown",
   "metadata": {
    "slideshow": {
     "slide_type": "slide"
    }
   },
   "source": [
    "### Klimatske projekcije... → ~1800 → 2100 → ...\n",
    "- CMIP5\n",
    "- CORDEX regionalni klimatski model za Evropu"
   ]
  }
 ],
 "metadata": {
  "celltoolbar": "Slideshow",
  "kernelspec": {
   "display_name": "Python 3",
   "language": "python",
   "name": "python3"
  },
  "language_info": {
   "codemirror_mode": {
    "name": "ipython",
    "version": 3
   },
   "file_extension": ".py",
   "mimetype": "text/x-python",
   "name": "python",
   "nbconvert_exporter": "python",
   "pygments_lexer": "ipython3",
   "version": "3.6.8"
  }
 },
 "nbformat": 4,
 "nbformat_minor": 2
}
