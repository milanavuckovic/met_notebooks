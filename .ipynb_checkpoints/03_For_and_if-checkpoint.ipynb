{
 "cells": [
  {
   "cell_type": "markdown",
   "metadata": {
    "slideshow": {
     "slide_type": "slide"
    }
   },
   "source": [
    "## for loops\n",
    "\n",
    "Napravljeno po uzoru na: [for loops - geo-python 2019](https://geo-python.github.io/site/notebooks/L3/for-loops.html)"
   ]
  },
  {
   "cell_type": "code",
   "execution_count": null,
   "metadata": {
    "slideshow": {
     "slide_type": "slide"
    }
   },
   "outputs": [],
   "source": [
    "station_names = ['Palic', 'Sombor', 'Novi Sad', 'Zrenjanin', 'Kikinda', 'Sremska Mitrovica', 'Banatski Karlovac', 'Beograd', 'Loznica']\n",
    "for station in station_names:\n",
    "    print(station)"
   ]
  },
  {
   "cell_type": "markdown",
   "metadata": {
    "slideshow": {
     "slide_type": "slide"
    }
   },
   "source": [
    "Promenljiva koja se koristi u for petlji nastavlja da zivi i kada se for petlja zavrsi... Na primer:"
   ]
  },
  {
   "cell_type": "code",
   "execution_count": null,
   "metadata": {
    "slideshow": {
     "slide_type": "fragment"
    }
   },
   "outputs": [],
   "source": [
    "weather_conditions = ['kisa', 'susnezica', 'sneg', 'suncano', 'oblacno', 'ledene iglice', 'magla']\n",
    "for weather in weather_conditions:\n",
    "    print(weather)"
   ]
  },
  {
   "cell_type": "code",
   "execution_count": null,
   "metadata": {
    "slideshow": {
     "slide_type": "fragment"
    }
   },
   "outputs": [],
   "source": [
    "print('Posle for petlje, vreme je', weather)"
   ]
  },
  {
   "cell_type": "markdown",
   "metadata": {
    "slideshow": {
     "slide_type": "slide"
    }
   },
   "source": [
    "### for loops i range() funkcija"
   ]
  },
  {
   "cell_type": "code",
   "execution_count": null,
   "metadata": {
    "slideshow": {
     "slide_type": "fragment"
    }
   },
   "outputs": [],
   "source": [
    "for value in range(5):\n",
    "    print(value)"
   ]
  },
  {
   "cell_type": "code",
   "execution_count": null,
   "metadata": {
    "slideshow": {
     "slide_type": "fragment"
    }
   },
   "outputs": [],
   "source": [
    "for i in range(len(weather_conditions)):\n",
    "    print(weather_conditions[i])"
   ]
  },
  {
   "cell_type": "markdown",
   "metadata": {
    "slideshow": {
     "slide_type": "slide"
    }
   },
   "source": [
    "### if statements"
   ]
  },
  {
   "cell_type": "code",
   "execution_count": null,
   "metadata": {
    "slideshow": {
     "slide_type": "fragment"
    }
   },
   "outputs": [],
   "source": [
    "temperature = 17\n",
    "\n",
    "if temperature > 30:\n",
    "    print('vruce je')\n",
    "else:\n",
    "    print('nije vruce')"
   ]
  },
  {
   "cell_type": "code",
   "execution_count": null,
   "metadata": {
    "slideshow": {
     "slide_type": "fragment"
    }
   },
   "outputs": [],
   "source": [
    "weather = 'pada kisa'\n",
    "\n",
    "if weather == 'pada kisa':\n",
    "    print('Ponesi kisobran')\n",
    "else:\n",
    "    print('Ne treba ti kisobran')"
   ]
  },
  {
   "cell_type": "markdown",
   "metadata": {
    "slideshow": {
     "slide_type": "slide"
    }
   },
   "source": [
    "Slicno for petlji, u Pythonu koristimo dve tacke (:) i 4 space mesta da formiramo uslovne petlje. Ako je uslov ispunjen (True) uvuceni blok koda posle dve tacke se izvrsava. Kod moze imati nekoliko linija koda ali sve moraju biti uvucene identicno."
   ]
  },
  {
   "cell_type": "code",
   "execution_count": null,
   "metadata": {
    "slideshow": {
     "slide_type": "fragment"
    }
   },
   "outputs": [],
   "source": [
    "weather = 'pada kisa'\n",
    "\n",
    "if weather == 'pada kisa':\n",
    "    print('Ponesi kisobran')\n",
    "    print('Obuj nepropusne cizme')\n",
    "    print('Obuci kisni kaput')\n",
    "else:\n",
    "    print('Ne treba ti oprema za kisu')"
   ]
  },
  {
   "cell_type": "markdown",
   "metadata": {
    "slideshow": {
     "slide_type": "slide"
    }
   },
   "source": [
    "### Operatori poredjenja i boolean vrednosti\n",
    "\n",
    "Operatori poredjenja kao sto su `>` i `==` porede vrenosti sa obe strane operatora. Puna lista operatora je u ovoj tabeli:  \n",
    "\n",
    "| Operator | Description              |\n",
    "| -------- | ------------------------ |\n",
    "| <        | Manje                    |\n",
    "| <=       | Manje ili jednako        |\n",
    "| ==       | Jednako                  |\n",
    "| >=       | Vece ili jednako         |\n",
    "| >        | Vece                     |\n",
    "| !=       | Nije jednako             |"
   ]
  },
  {
   "cell_type": "markdown",
   "metadata": {
    "slideshow": {
     "slide_type": "slide"
    }
   },
   "source": [
    "### if, elif and else\n",
    "Vise uslovnih petlji mozemo povezati koristeci “else if” -statement elif. Python proverava elif i else samo ako su prethodni uslovi bili False. Mozemo imati vise elif statementa ako treba da proveravamo vise uslova."
   ]
  },
  {
   "cell_type": "code",
   "execution_count": null,
   "metadata": {
    "slideshow": {
     "slide_type": "fragment"
    }
   },
   "outputs": [],
   "source": [
    "if temperature > 0:\n",
    "     print(temperature, 'is above freezing')\n",
    "elif temperature == 0:\n",
    "     print(temperature, 'is freezing')\n",
    "else:\n",
    "     print(temperature, 'is below freezing')"
   ]
  },
  {
   "cell_type": "markdown",
   "metadata": {
    "slideshow": {
     "slide_type": "slide"
    }
   },
   "source": [
    "### Combining conditions\n",
    "\n",
    "Mozemo koristiti and i or da bi kombinovali vise uslova."
   ]
  },
  {
   "cell_type": "code",
   "execution_count": null,
   "metadata": {
    "slideshow": {
     "slide_type": "fragment"
    }
   },
   "outputs": [],
   "source": [
    "if (1 > 0) and (-1 > 0):\n",
    "     print('Obe strane su istinite')\n",
    "else:\n",
    "     print('Bar jedna tvrdnja nije istinita')"
   ]
  },
  {
   "cell_type": "code",
   "execution_count": null,
   "metadata": {
    "slideshow": {
     "slide_type": "fragment"
    }
   },
   "outputs": [],
   "source": [
    "weather = 'pada kisa'\n",
    "wind = 'vetrovito'\n",
    "\n",
    "if (weather == 'pada kisa') or (wind == 'vetrovito'):\n",
    "    print('Bolje ostani kod kuce')\n",
    "else:\n",
    "    print('Izadji napolje i uzivaj u lepom vremenu! :)')"
   ]
  },
  {
   "cell_type": "markdown",
   "metadata": {
    "slideshow": {
     "slide_type": "slide"
    }
   },
   "source": [
    "### Kombinacije for i if"
   ]
  },
  {
   "cell_type": "code",
   "execution_count": null,
   "metadata": {
    "slideshow": {
     "slide_type": "fragment"
    }
   },
   "outputs": [],
   "source": [
    "temperatures = [0, 12, 17, 28, 30]\n",
    "\n",
    "for temperature in temperatures:\n",
    "    if temperature > 25:\n",
    "        print(temperature, 'stepeni je toplo')\n",
    "    else:\n",
    "        print(temperature, 'stepeni je hladno')"
   ]
  }
 ],
 "metadata": {
  "kernelspec": {
   "display_name": "Python 3",
   "language": "python",
   "name": "python3"
  },
  "language_info": {
   "codemirror_mode": {
    "name": "ipython",
    "version": 3
   },
   "file_extension": ".py",
   "mimetype": "text/x-python",
   "name": "python",
   "nbconvert_exporter": "python",
   "pygments_lexer": "ipython3",
   "version": "3.6.8"
  }
 },
 "nbformat": 4,
 "nbformat_minor": 2
}
